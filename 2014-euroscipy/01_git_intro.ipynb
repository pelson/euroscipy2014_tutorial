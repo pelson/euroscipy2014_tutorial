{
 "metadata": {
  "name": "01_git_intro.ipynb",
  "signature": "sha256:a53757bd30dbf76a34dc7c46921a8a0162c5ab48a50ff6df0002bb306169055c"
 },
 "nbformat": 3,
 "nbformat_minor": 0,
 "worksheets": [
  {
   "cells": [
    {
     "cell_type": "markdown",
     "metadata": {},
     "source": [
      "Version control\n",
      "===============\n",
      "\n",
      "Have you ever:\n",
      "\n",
      "* Made a change to code, realised it was a mistake and wanted to revert back?\n",
      "* Lost code or had a backup that was too old?\n",
      "* Had to maintain multiple versions of a product?\n",
      "* Wanted to see the difference between two (or more) versions of your code?\n",
      "* Wanted to prove that a particular change broke or fixed a piece of code?\n",
      "* Wanted to review the history of some code?\n",
      "* Wanted to submit a change to someone else's code?\n",
      "* Wanted to share your code, or let other people work on your code?\n",
      "* Wanted to see how much work is being done, and where, when and by whom?\n",
      "* Wanted to experiment with a new feature without interfering with working code?\n",
      "\n",
      "In these cases, and no doubt others, a version control system should make your life easier.\n",
      "\n",
      "![Example of version control with folders](resources/version_control.gif)\n"
     ]
    },
    {
     "cell_type": "markdown",
     "metadata": {},
     "source": [
      "#Getting started with git\n",
      "\n",
      "\n",
      "Git is distributed revision control system (DVCS)\n",
      " \n",
      " * Each copy or \"clone\" of a repository contains **all** of that repository's history."
     ]
    },
    {
     "cell_type": "markdown",
     "metadata": {},
     "source": [
      "## Github\n",
      "\n",
      "A web service which stores git clones along with extra services like issue tracking and code review.\n",
      "\n",
      "Because Git is decentralised there needn't be a \"blessed\" clone, but with Github there almost always is."
     ]
    },
    {
     "cell_type": "markdown",
     "metadata": {},
     "source": [
      "## git clone\n",
      "\n",
      "To create your own clone of a repository, simply run:\n",
      "\n",
      "``git clone <repository address>``\n",
      "\n",
      "Let's go ahead and clone https://github.com/pelson/tutorial_classroom to our machines."
     ]
    },
    {
     "cell_type": "code",
     "collapsed": false,
     "input": [
      "!git clone https://github.com/pelson/tutorial_classroom\n",
      "%cd tutorial_classroom"
     ],
     "language": "python",
     "metadata": {},
     "outputs": []
    },
    {
     "cell_type": "markdown",
     "metadata": {},
     "source": [
      "We now have a full copy of the **tutorial_classroom** repository in our current working directory.\n",
      "We could make as many changes as we liked to the repository, commit them, and nobody need know that we've done so - this really is a standalone repository."
     ]
    },
    {
     "cell_type": "markdown",
     "metadata": {},
     "source": [
      "## git commit"
     ]
    },
    {
     "cell_type": "markdown",
     "metadata": {},
     "source": [
      "The concept of a commit is fundamental to Git - a commit has a unique ID (SHA1 hash) which is made up of the ID of a single \"tree\" (basically like a directory), meta-information such as timestamp and author, and importantly contains a pointer to proceeding commit(s).\n",
      "\n",
      "Therefore a single commit represents a state of a repository and can ultimately reference all other proceeding states. Because of the commit ID being made on the ID of proceeding commit(s), it is not possible to change old commits without affecting later commits.\n",
      "\n",
      "![branching image](resources/commit.png)\n",
      "\n",
      "Committing to your repository requires two phases:\n",
      "\n",
      " 1. Add new and modified files to the staging area with ``git add``\n",
      " 2. Commit all staged changes with ``git commit``\n",
      "\n",
      "At all points, using ``git status`` will tell you what state your repository is in, and provide some useful hints with staging."
     ]
    },
    {
     "cell_type": "markdown",
     "metadata": {},
     "source": [
      "## git log\n",
      "\n",
      "We can see a list of the commits which have led to the current state of the repository with ``git log``:"
     ]
    },
    {
     "cell_type": "code",
     "collapsed": false,
     "input": [
      "!git log"
     ],
     "language": "python",
     "metadata": {},
     "outputs": []
    },
    {
     "cell_type": "markdown",
     "metadata": {},
     "source": [
      "## git branch\n",
      "\n",
      "With git, branching is made exceptionally easy. A branch is a simple means to make changes to a repository without directly updating the master/main branch(es), making a branch the prefect place to try out new ideas, implement new features, fix bugs, and generally make any changes.\n",
      "\n",
      "If a circle is used to represent a commit, then a branch, from any point, allows one to add commits without modifying other branches:\n",
      "\n",
      "![branching image](resources/branching.png)\n",
      "\n",
      "We can create a branch from any point in our history, or by default, from the last commit of the current branch (known as HEAD).\n",
      "\n",
      "``git branch <branch name> <reference point>``\n",
      "\n",
      "Switching between branches is a matter of simply doing ``git checkout <branch name>``. Finding out what branches are available is just ``git branch``."
     ]
    },
    {
     "cell_type": "markdown",
     "metadata": {},
     "source": [
      "## git merge\n",
      "\n",
      "After separating work into individual branches, we inevitably will want to bring successful changes back into the master (or any other) branch. This is known as merging.\n",
      "\n",
      "Sometimes merging is as simple as appending commits to the target branch, known as fast-forward merging. However, it is often the case that both branches have moved forwards, requiring what is known as a \"3-way merge\", as demonstrated in the following image:\n",
      "\n",
      "![branching image](resources/merging.png)\n",
      "\n",
      "Luckily, git takes care of this merging for you - to merge another branch into the current branch, simply ``git merge <name of other branch>`` will start the merge process."
     ]
    },
    {
     "cell_type": "markdown",
     "metadata": {},
     "source": [
      "## git remote\n",
      "\n",
      "As we already know, the repository that we have cloned is a complete copy of the original repository, but there are also complete copies of the repository elsewhere, which sometimes are convenient to reference.\n",
      "\n",
      "These references are known as remotes in git, and by cloning ``https://github.com/pelson/tutorial_classroom`` earlier, git has already made github's version of the repository available as a remote. We can see this with:"
     ]
    },
    {
     "cell_type": "code",
     "collapsed": false,
     "input": [
      "!git remote --verbose"
     ],
     "language": "python",
     "metadata": {},
     "outputs": [
      {
       "output_type": "stream",
       "stream": "stderr",
       "text": [
        "'git' is not recognized as an internal or external command,\n",
        "operable program or batch file.\n"
       ]
      }
     ],
     "prompt_number": 1
    },
    {
     "cell_type": "markdown",
     "metadata": {},
     "source": [
      "We can add remotes with\n",
      "\n",
      "``git remote add <new remote name> <URI>``\n",
      "\n",
      "and can move existing remotes with\n",
      "\n",
      "``git remote rename <old remote name> <new remote name>``\n",
      "\n",
      "Note: Normal terminology suggests calling the \"blessed\" github repository \"upstream\" and your fork \"origin\"."
     ]
    },
    {
     "cell_type": "markdown",
     "metadata": {},
     "source": [
      "# Pulling it all together\n",
      "\n",
      "Now, I'll add a file to my local repository to store a list of attendees of this tutorial.\n",
      "\n",
      "First, I check the current state of the repository with ``git status``:"
     ]
    },
    {
     "cell_type": "code",
     "collapsed": true,
     "input": [
      "!git status"
     ],
     "language": "python",
     "metadata": {},
     "outputs": [
      {
       "output_type": "stream",
       "stream": "stderr",
       "text": [
        "'git' is not recognized as an internal or external command,\n",
        "operable program or batch file.\n"
       ]
      }
     ],
     "prompt_number": 2
    },
    {
     "cell_type": "markdown",
     "metadata": {},
     "source": [
      "## Create the branch\n",
      "\n",
      "Next, I create a branch called \"euroscipy_2014\" based from the last commit in ``git log`` (aka HEAD), and check it out:"
     ]
    },
    {
     "cell_type": "code",
     "collapsed": false,
     "input": [
      "!git branch euroscipy_2014\n",
      "!git checkout euroscipy_2014"
     ],
     "language": "python",
     "metadata": {},
     "outputs": []
    },
    {
     "cell_type": "markdown",
     "metadata": {},
     "source": [
      "And just confirm that the status of the repository has changed."
     ]
    },
    {
     "cell_type": "code",
     "collapsed": true,
     "input": [
      "!git status"
     ],
     "language": "python",
     "metadata": {},
     "outputs": []
    },
    {
     "cell_type": "markdown",
     "metadata": {},
     "source": [
      "## Add some content"
     ]
    },
    {
     "cell_type": "code",
     "collapsed": false,
     "input": [
      "%mkdir euroscipy_2014"
     ],
     "language": "python",
     "metadata": {},
     "outputs": []
    },
    {
     "cell_type": "code",
     "collapsed": false,
     "input": [
      "%%writefile euroscipy_2014/ABOUT\n",
      "\n",
      "This directory contains all the attendees of the\n",
      "\"Lessons for a scientific programmer\" tutorial held at EuroScipy'14."
     ],
     "language": "python",
     "metadata": {},
     "outputs": []
    },
    {
     "cell_type": "code",
     "collapsed": true,
     "input": [
      "!git status"
     ],
     "language": "python",
     "metadata": {},
     "outputs": []
    },
    {
     "cell_type": "markdown",
     "metadata": {},
     "source": [
      "## Add the content to the staging area"
     ]
    },
    {
     "cell_type": "code",
     "collapsed": false,
     "input": [
      "!git add euroscipy_2014/ABOUT\n",
      "!git status"
     ],
     "language": "python",
     "metadata": {},
     "outputs": []
    },
    {
     "cell_type": "markdown",
     "metadata": {},
     "source": [
      "## Commit the content to the branch"
     ]
    },
    {
     "cell_type": "code",
     "collapsed": false,
     "input": [
      "!git commit -m \"Added the class attendees folder.\""
     ],
     "language": "python",
     "metadata": {},
     "outputs": []
    },
    {
     "cell_type": "markdown",
     "metadata": {},
     "source": [
      "## Merging the branch back to master\n",
      "\n",
      "Simply checking out master, and then merging the euroscipy_2014 branch would be sufficient to pull these changes in to our **local** master branch. e.g.\n",
      "\n",
      "``\n",
      "git checkout master\n",
      "git merge euroscipy_2014\n",
      "``\n",
      "\n",
      "However, typically this is not what we would do if we wanted these changes to be integrated into the original repository on github.\n",
      "\n",
      "Instead we would normally make this branch available publicly (on github) and submit a \"pull request\" (simply a request to merge) for the branch to be merged on the blessed repository."
     ]
    },
    {
     "cell_type": "markdown",
     "metadata": {},
     "source": [
      "# Creating a PR on github\n",
      "\n",
      "## Forking and setting up your local clone with the new remote\n",
      "\n",
      "To submit a pull request to merge our branch into the original github repository we need to make our branch available on github. However, since repositories generally have very limited permissions, we do not have sufficient privileges to write to the original github repository.\n",
      "\n",
      "At this point we are going to need our own copy of the original repository under our own name on github. On github this is known as \"forking\" and is essentially just a ``git clone <upstream repo>`` to your own space on github's servers.\n",
      "\n",
      "* Rename the \"origin\" remote to \"upstream\" on your local clone.\n",
      "* Go to https://github.com/pelson/tutorial_classroom and fork it.\n",
      "* Your forked repo's clone URL will now show something like\n",
      "\n",
      "    ``https://github.com/<YOUR_USERNAME>/tutorial_classroom.git``\n",
      "    \n",
      "    or\n",
      "    \n",
      "    ``git@github.com:<YOUR USERNAME>/tutorial_classroom.git``\n",
      "    \n",
      "  Add this as a remote called \"origin\" to your local clone.\n",
      "* Verify that ``git remote --verbose`` shows the expected URLs and that the command\n",
      "\n",
      "   ``git fetch --all``\n",
      "  \n",
      "  successfully runs (effectively fetching any commits which have been applied since the clone was last updated)."
     ]
    },
    {
     "cell_type": "code",
     "collapsed": false,
     "input": [
      "!git remote add origin https://github.com/StatsManTim/lessons_for_a_scientific_programmer.git\n",
      "# !git remote add origin git@github.com:<YOUR USERNAME>/tutorial_classroom.git"
     ],
     "language": "python",
     "metadata": {},
     "outputs": [
      {
       "output_type": "stream",
       "stream": "stderr",
       "text": [
        "'git' is not recognized as an internal or external command,\n",
        "operable program or batch file.\n"
       ]
      }
     ],
     "prompt_number": 3
    },
    {
     "cell_type": "code",
     "collapsed": false,
     "input": [
      "!git remote --verbose"
     ],
     "language": "python",
     "metadata": {},
     "outputs": []
    },
    {
     "cell_type": "markdown",
     "metadata": {},
     "source": [
      "## Pushing your branch to your fork\n",
      "\n",
      "We can move local branches to a remote with:\n",
      "\n",
      "``git push <remote name> <branch name>``\n",
      "\n",
      "So to push our branch to our fork:"
     ]
    },
    {
     "cell_type": "code",
     "collapsed": false,
     "input": [
      "cd ..\n"
     ],
     "language": "python",
     "metadata": {},
     "outputs": [
      {
       "output_type": "stream",
       "stream": "stdout",
       "text": [
        "c:\\users\\tim\\documents\\euroscipy 2014\n"
       ]
      }
     ],
     "prompt_number": 10
    },
    {
     "cell_type": "code",
     "collapsed": false,
     "input": [
      "!git push origin euroscipy_2014"
     ],
     "language": "python",
     "metadata": {},
     "outputs": [
      {
       "output_type": "stream",
       "stream": "stderr",
       "text": [
        "'git' is not recognized as an internal or external command,\n",
        "operable program or batch file.\n"
       ]
      }
     ],
     "prompt_number": 11
    },
    {
     "cell_type": "markdown",
     "metadata": {},
     "source": [
      "If this fails, add the ``--verbose`` flag and go through the following steps:\n",
      "\n",
      " * Check your network - are you connected to the internet!?\n",
      " * Check you have got [git with github setup correctly](https://help.github.com/articles/set-up-git#next-steps-authenticating-to-github-from-git).\n",
      " * Check you are attempting to push to YOUR fork, not the original (pelson) repo.\n",
      " * Raise your hand."
     ]
    },
    {
     "cell_type": "markdown",
     "metadata": {},
     "source": [
      "## Creating the PR\n",
      "\n",
      "Now that we've pushed our branch to our fork, we can submit a PR. Got to the front page of your fork, and you should see a new banner has appeared to create a PR to merge your branch back into master of the original repository.\n",
      "\n",
      "But...\n",
      "\n",
      "Don't make the PR just yet!"
     ]
    },
    {
     "cell_type": "markdown",
     "metadata": {},
     "source": [
      "## Cleaning up your fork\n",
      "\n",
      "Sometimes you have branches on your fork which are no longer desired.\n",
      "\n",
      "Simply doing ``git branch -d <branch name>`` (or -D if you know that you *really* want it deleted) will remove a branch locally, but you cannot run git commands on your fork which is sitting on github's servers. Instead, we have to jump through a hoop and push \"nothing\" to this branch:\n",
      "\n",
      "``git push origin :euroscipy_2014``\n",
      "\n",
      "This command makes a little more sense when you know that git push accepts the following:\n",
      "\n",
      "``git push origin <local_branch_name>:<remote_branch_name>``\n",
      "\n",
      "But admittedly, it is still fairly obscure."
     ]
    },
    {
     "cell_type": "markdown",
     "metadata": {},
     "source": [
      "# Exercise\n",
      "\n",
      " 1\\. Split into groups of 2 or 3 and work on a single machine.\n",
      " \n",
      " 2\\. Update the git repo with ``git fetch --all`` and create a branch called ``my_euroscipy_group`` based on **upstream/master** (which is probably *not* the current branch).\n",
      "\n",
      " 3\\. Create a single file ``euroscipy_2014/<YOUR GITHUB USERNAME>.yaml`` listing all of your group's github usernames in the form:\n",
      "    \n",
      "```\n",
      "members:\n",
      " - <username 1>\n",
      " - <username 2>\n",
      "```\n",
      "         \n",
      "\n",
      " 4\\. Commit the new files to your branch.\n",
      " \n",
      " 5\\. Push the ``my_euroscipy_group`` branch to your fork.\n",
      " \n",
      " 6\\. Submit a single PR per group to register as having attended this tutorial."
     ]
    },
    {
     "cell_type": "markdown",
     "metadata": {},
     "source": [
      "### Navigation:\n",
      "\n",
      "[Intro](00_intro.ipynb) | [Next](02_idiomatic_python.ipynb)\n",
      "\n",
      "\n",
      "-----------\n",
      "<br><br><br><br><br><br><br><br><br><br><br><br><br><br><br><br><br><br><br><br>"
     ]
    },
    {
     "cell_type": "code",
     "collapsed": false,
     "input": [
      "%run resources/load_style.py"
     ],
     "language": "python",
     "metadata": {},
     "outputs": [
      {
       "html": [
        "<style>\n",
        ".rendered_html {\n",
        "    font-family: Georgia, serif;\n",
        "    font-size: 130%;\n",
        "    line-height: 1.5;\n",
        "}\n",
        "\n",
        ".input {\n",
        "    width: 930px;\n",
        "}\n",
        "\n",
        ".inner_cell {\n",
        "    width: 800px;\n",
        "}\n",
        "\n",
        ".code_cell {\n",
        "    width: 800px;\n",
        "}\n",
        "\n",
        ".CodeMirror-sizer {\n",
        "}\n",
        "\n",
        "hr {\n",
        "    border: 1px solid #DDD;\n",
        "}\n",
        "\n",
        ".rendered_html p {\n",
        "   text-align: left;\n",
        "}\n",
        "\n",
        ".rendered_html h1 {\n",
        "    margin: 0.25em 0em 0.5em;\n",
        "    font-family: sans-serif;\n",
        "    color: #015C9C;\n",
        "    text-align: center;\n",
        "    line-height: 1.2;\n",
        "    page-break-before: always;\n",
        "}\n",
        "\n",
        ".rendered_html h2 {\n",
        "    margin: 1.1em 0em 0.5em;\n",
        "    font-family: sans-serif;\n",
        "    color: #26465D;\n",
        "    line-height: 1.2;\n",
        "}\n",
        "\n",
        ".rendered_html h3 {\n",
        "    font-family: sans-serif;\n",
        "    margin: 1.1em 0em 0.5em;\n",
        "    color: #002845;\n",
        "    line-height: 1.2;\n",
        "}\n",
        "\n",
        ".rendered_html li {\n",
        "    line-height: 1.5;\n",
        "}\n",
        "\n",
        ".CodeMirror-lines {\n",
        "    font-size: 110%;\n",
        "    line-height: 1.4em;\n",
        "    font-family: DejaVu Sans Mono, Consolas, Ubuntu, monospace;\n",
        "}\n",
        "\n",
        "h1.bigtitle {\n",
        "    margin: 4cm 1cm 4cm 1cm;\n",
        "    font-size: 300%;\n",
        "}\n",
        "\n",
        "h3.point {\n",
        "    font-size: 200%;\n",
        "    text-align: center;\n",
        "    margin: 2em 0em 2em 0em;\n",
        "    #26465D\n",
        "}\n",
        "\n",
        ".logo {\n",
        "    margin: 20px 0 20px 0;\n",
        "}\n",
        "\n",
        "a.anchor-link {\n",
        "    display: none;\n",
        "}\n",
        "\n",
        "h1.title {\n",
        "    font-size: 250%;\n",
        "}\n",
        "\n",
        ".exercize {\n",
        "    color: #738;\n",
        "}\n",
        "\n",
        "h2 .exercize {\n",
        "    font-style: italic;\n",
        "}\n",
        "\n",
        "</style>"
       ],
       "metadata": {},
       "output_type": "display_data",
       "text": [
        "<IPython.core.display.HTML at 0x1044765d0>"
       ]
      }
     ],
     "prompt_number": 1
    }
   ],
   "metadata": {}
  }
 ]
}
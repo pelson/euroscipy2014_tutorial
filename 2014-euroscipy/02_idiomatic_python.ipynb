{
 "metadata": {
  "name": "",
  "signature": "sha256:47bf50fbd0e3a8e3838022bd20bd9b0d644671bfe9fe7d376b3ecc2799104a49"
 },
 "nbformat": 3,
 "nbformat_minor": 0,
 "worksheets": [
  {
   "cells": [
    {
     "cell_type": "markdown",
     "metadata": {},
     "source": [
      "Writing idiomatic Python\n",
      "========================\n",
      "\n",
      "We now have some interesting data about the attendees of this tutorial, so let's make use of it in Python by writing an interface to it.\n",
      "\n",
      "First though, let's consider some important points about writing good, maintainable and reliable code.\n",
      "\n",
      "## Make use of existing tools.\n",
      "\n",
      "The first thing to know about our data is that we have written our data in \"yaml\" form. YAML is an excellent data serialisation format similar to JSON with a few extra benefits, notably including the ability to write comments. This makes YAML a great choice for writing configuration files or simply for storing human readable data.\n",
      "\n",
      "By using YAML we can tap into existing loaders, such as PyYAML, to avoid having to write our own - this will save us a bunch of time and allow us to focus on the important parts of our code.\n",
      "\n",
      "An important thing to note about YAML is that it is an extensible serialisation language, meaning it is possible to define our own complex types and ultimately construct arbitrary Python objects. This is great, but it does open us up to potentially malicious intents, [so we use the ``yaml.safe_load`` function](http://pyyaml.org/wiki/PyYAMLDocumentation#LoadingYAML) when dealing with any data which may be untrusted:"
     ]
    },
    {
     "cell_type": "code",
     "collapsed": false,
     "input": [
      "import yaml\n",
      "\n",
      "example = \"\"\"\n",
      "members:\n",
      " - Ringo\n",
      " - John\n",
      " - Paul\n",
      " - George\n",
      "\"\"\"\n",
      "\n",
      "print(yaml.safe_load(example))"
     ],
     "language": "python",
     "metadata": {},
     "outputs": [
      {
       "output_type": "stream",
       "stream": "stdout",
       "text": [
        "{'members': ['Ringo', 'John', 'Paul', 'George']}\n"
       ]
      }
     ],
     "prompt_number": 2
    },
    {
     "cell_type": "markdown",
     "metadata": {},
     "source": [
      "In a similar vein - [read about Python's standard library](https://docs.python.org/library/index.html), especially ``itertools`` and ``collections``."
     ]
    },
    {
     "cell_type": "markdown",
     "metadata": {},
     "source": [
      "## Know your data types\n",
      "\n",
      "Python's built-in datatypes are powerful - they generally use the best possible algorithms for their specific problems, so we should make use of them where possible.\n",
      "\n",
      "In your groups, discuss:\n",
      " * What is the difference between a list and a tuple?\n",
      " * What is a dictionary used for?\n",
      " * What is a Set good for?\n",
      " * What are the differences between a list and a numeric numpy array?"
     ]
    },
    {
     "cell_type": "markdown",
     "metadata": {},
     "source": [
      "## Use generators\n",
      "\n",
      "Generators are incredibly powerful in Python, if nothing else use them to simplify your code from:\n",
      "\n",
      "```\n",
      "def green_bottles(n_bottles=10):\n",
      "    lines = []\n",
      "    for i in xrange(n_bottles, 0, -1):\n",
      "        lines.append('{} green bottles'.format(i))\n",
      "    return lines\n",
      "\n",
      "print '\\n'.join(green_bottles(5))\n",
      "\n",
      "```\n",
      "\n",
      "To\n",
      "\n",
      "```\n",
      "def green_bottles(n_bottles=10):\n",
      "    for i in xrange(n_bottles, 0, -1):\n",
      "         yield '{} green bottles'.format(i)\n",
      "\n",
      "print '\\n'.join(green_bottles(5))\n",
      "```\n",
      "\n",
      "Note that the return type is different: however calling list() on the result of green_bottles will give exactly equivalent.\n",
      "\n",
      "Not only does this often simplify code, but it can lead to some impressive speedups in *some* situations, especially when large quantities of data are being processed then disregarded sequentially."
     ]
    },
    {
     "cell_type": "code",
     "collapsed": false,
     "input": [
      "# Python3 syntax:\n",
      "def green_bottles(n_bottles=10):\n",
      "    for i in range(n_bottles, 0, -1):\n",
      "        yield \"{} green bottles\".format(i)\n",
      "\n",
      "print('\\n'.join(green_bottles(5)))"
     ],
     "language": "python",
     "metadata": {},
     "outputs": [
      {
       "output_type": "stream",
       "stream": "stdout",
       "text": [
        "5 green bottles\n",
        "4 green bottles\n",
        "3 green bottles\n",
        "2 green bottles\n",
        "1 green bottles\n"
       ]
      }
     ],
     "prompt_number": 5
    },
    {
     "cell_type": "markdown",
     "metadata": {},
     "source": [
      "## Use context managers\n",
      "\n",
      "Context managers allow one to run \"enter\" and \"exit\" functionality before and after the content within a \"with\" statement respectively.\n",
      "\n",
      "The most common context manager is created with ``open`` to open a file. In order to avoid running out of file descriptors in the Python process, is is important to close an open file once it is finished with. Without using a context manager, one must remember to call ``.close()`` on the file handle when we are done with it, but inside a context manager, this is done for us automatically:\n",
      "\n",
      "```\n",
      "with open(fname, 'r') as fh:\n",
      "    contents = ''.join(fh)\n",
      "```\n",
      "\n",
      "Additionally, Python's contextlib module makes it easy to define our own context managers.\n"
     ]
    },
    {
     "cell_type": "markdown",
     "metadata": {},
     "source": [
      "## Have a consistent style\n",
      "\n",
      "Python's [PEP8 style guide](http://legacy.python.org/dev/peps/pep-0008/) gives some good suggestions on coding style, particularly with naming conventions and whitespace. Specifically:\n",
      "\n",
      " * classes names should be in CapWords\n",
      " * function, variable and method names should be lowercase, with words separated by underscores\n",
      "\n",
      "Following the guide makes your code more readable to those who also follow the guide (much of the scientific Python world) and gives users convenient hints as to what a certain object type might be.\n",
      "\n",
      "Importantly though:\n",
      "\n",
      "> A style guide is about consistency. Consistency with this style guide is important. Consistency within a project is more important. Consistency within one module or function is most important."
     ]
    },
    {
     "cell_type": "markdown",
     "metadata": {},
     "source": [
      "-----------\n",
      "\n",
      "# Defining an interface to our classroom\n",
      "\n",
      "We have a collection of YAML files, each representing a group in the classroom, where a group is a collection of individual attendees.\n",
      "\n",
      "**Exercise:**\n",
      "\n",
      "Using sample data in ``'sample_data/*.yaml'``, Python's ``glob.glob`` function, and PyYAML's ``yaml.safe_load`` function, load the data and print the filename and length of each group.\n",
      "\n",
      "The first few steps have been completed for you:"
     ]
    },
    {
     "cell_type": "code",
     "collapsed": false,
     "input": [
      "import os\n",
      "import glob\n",
      "\n",
      "pattern = os.path.join('sample_data', '*.yaml')\n",
      "print glob.glob(pattern)"
     ],
     "language": "python",
     "metadata": {},
     "outputs": []
    },
    {
     "cell_type": "markdown",
     "metadata": {},
     "source": [
      "When you are ready, take a look at my solution by running the next cell - there is no right or wrong answer. If you think your solution is more readable (and/or Pythonic) than mine, I'd like to hear about it."
     ]
    },
    {
     "cell_type": "code",
     "collapsed": false,
     "input": [
      "%load solutions/idiomatic_1.py"
     ],
     "language": "python",
     "metadata": {},
     "outputs": []
    },
    {
     "cell_type": "markdown",
     "metadata": {},
     "source": [
      "## Using a suitable datatype\n",
      "\n",
      "Now that we've explored the use of ``yaml.safe_load``, let's define a function which loads each group in the given \"classroom\"."
     ]
    },
    {
     "cell_type": "code",
     "collapsed": false,
     "input": [
      "import os\n",
      "import glob\n",
      "import yaml\n",
      "\n",
      "\n",
      "def load_classroom(glob_pattern):\n",
      "    for fname in sorted(glob.glob(glob_pattern)):\n",
      "        with open(fname) as fh:\n",
      "            yield tuple(yaml.safe_load(fh).get('members') or [])\n",
      "\n",
      "\n",
      "pattern = os.path.join('sample_data', '*.yaml')\n",
      "classroom = list(load_classroom(pattern))\n",
      "\n",
      "print classroom"
     ],
     "language": "python",
     "metadata": {},
     "outputs": []
    },
    {
     "cell_type": "markdown",
     "metadata": {},
     "source": [
      "The most appropriate datatype for the data depends on the questions that we wish to ask of it.\n",
      "\n",
      "For instance, supposing we had a long list of groups and wanted to do an analysis on the group lengths, we may wish to construct a numpy array exclusively holding those lengths. Once we have that, computing simple statistics is simply a numpy method away:"
     ]
    },
    {
     "cell_type": "code",
     "collapsed": false,
     "input": [
      "import numpy as np\n",
      "\n",
      "def group_lengths(classroom):\n",
      "    return np.array([len(group) for group in classroom])\n",
      "\n",
      "lengths = group_lengths(classroom)\n",
      "print 'Classroom group sizes: mean {}; var {};'.format(lengths.mean(), lengths.var())"
     ],
     "language": "python",
     "metadata": {},
     "outputs": []
    },
    {
     "cell_type": "markdown",
     "metadata": {},
     "source": [
      "\n",
      "**Exercise:**\n",
      "In your groups, discuss and implement an approach for turning our classroom (made up of a list of tuples) into a flat list of attendees.\n",
      "*(**hint:** there are many approaches possible, and the itertools module contains at least one of them)*\n",
      "\n",
      "Once you have the list of attendees, compute the average Github username for the class."
     ]
    },
    {
     "cell_type": "code",
     "collapsed": true,
     "input": [
      "#attendees = ..."
     ],
     "language": "python",
     "metadata": {},
     "outputs": []
    },
    {
     "cell_type": "markdown",
     "metadata": {},
     "source": [
      "**(Extension):** As a group, see how many other approaches you can find for flattening out a nested list."
     ]
    },
    {
     "cell_type": "code",
     "collapsed": false,
     "input": [
      "#attendees = ..."
     ],
     "language": "python",
     "metadata": {},
     "outputs": []
    },
    {
     "cell_type": "markdown",
     "metadata": {},
     "source": [
      "## Using functions as arguments to other functions\n",
      "\n",
      "One of the strangest concepts for some familiar with other languages, is Python's ability to pass functions as arguments to other functions.\n",
      "\n",
      "First, let's define a function which scores a group based on the number of people in the group. 3 is the ideal number, 2 is good, 4 is better than 1, but 1 is better than 5+."
     ]
    },
    {
     "cell_type": "code",
     "collapsed": false,
     "input": [
      "def group_score(group):\n",
      "    length = len(group)\n",
      "    # Map length of group to a score.\n",
      "    scores_mapping = {3: 0,\n",
      "                      2: 1,\n",
      "                      4: 2,\n",
      "                      1: 3}\n",
      "    # Get the score. If the length isn't defined\n",
      "    # in the scored_mapping, use length as default.\n",
      "    score = scores_mapping.get(length, length)\n",
      "    return score\n",
      "\n",
      "\n",
      "for group_len in range(1, 7):\n",
      "    print 'Group length {}, score {}'.format(group_len, group_score(range(group_len)))"
     ],
     "language": "python",
     "metadata": {},
     "outputs": []
    },
    {
     "cell_type": "markdown",
     "metadata": {},
     "source": [
      "We can now use the function ``group_score`` as an argument to the ``sorted`` function, which accepts a function in its ``key`` keyword argument.\n",
      "\n",
      "This will allow us to sort our classroom groups by order of the score that our function gives them."
     ]
    },
    {
     "cell_type": "code",
     "collapsed": false,
     "input": [
      "sorted(classroom, key=group_score)"
     ],
     "language": "python",
     "metadata": {},
     "outputs": []
    },
    {
     "cell_type": "markdown",
     "metadata": {},
     "source": [
      "Notice that we do not call the ``group_score`` function ourselves - that is the job of ``sorted``, which calls the function on each of the groups in our classroom inside a for-loop.\n",
      "\n",
      "\n",
      "**Exercise:**\n",
      "Define a function called ``fail`` which takes the classroom, a function, and a number as its only arguments. The function should return a generator of all the groups who's score, after calling the passed-in function is greater than the number passed as an argument:"
     ]
    },
    {
     "cell_type": "code",
     "collapsed": false,
     "input": [
      "def fail(classroom, scoring_function, maximum_score):\n",
      "    pass"
     ],
     "language": "python",
     "metadata": {},
     "outputs": []
    },
    {
     "cell_type": "markdown",
     "metadata": {},
     "source": [
      "When called with our ``group_score`` function, and a maximum score of 2, we should see that the Jacksons are the only group who fail the class:\n",
      "\n",
      "```\n",
      ">>> print list(fail(classroom, group_score, 4))\n",
      "[('Jackie', 'Tito', 'Jermaine', 'Marlon', 'Randy', 'Michael')]\n",
      "```"
     ]
    },
    {
     "cell_type": "code",
     "collapsed": false,
     "input": [
      "print list(fail(classroom, group_score, 4))"
     ],
     "language": "python",
     "metadata": {},
     "outputs": []
    },
    {
     "cell_type": "markdown",
     "metadata": {},
     "source": [
      "My solution to the problem can be seen below:"
     ]
    },
    {
     "cell_type": "code",
     "collapsed": false,
     "input": [
      "%load solutions/idiomatic_2.py"
     ],
     "language": "python",
     "metadata": {},
     "outputs": []
    },
    {
     "cell_type": "markdown",
     "metadata": {},
     "source": [
      "### Navigation:\n",
      "\n",
      "[Intro](00_intro.ipynb) | [Previous](01_git_intro.ipynb) | [Next](03_reusing_and_packaging.ipynb)\n",
      "\n",
      "\n",
      "-----------\n",
      "<br><br><br><br><br><br><br><br><br><br><br><br><br><br><br><br><br><br><br><br>"
     ]
    },
    {
     "cell_type": "code",
     "collapsed": false,
     "input": [
      "%run resources/load_style.py"
     ],
     "language": "python",
     "metadata": {},
     "outputs": [
      {
       "html": [
        "<style>\n",
        ".rendered_html {\n",
        "    font-family: Georgia, serif;\n",
        "    font-size: 130%;\n",
        "    line-height: 1.5;\n",
        "}\n",
        "\n",
        ".input {\n",
        "    width: 930px;\n",
        "}\n",
        "\n",
        ".inner_cell {\n",
        "    width: 800px;\n",
        "}\n",
        "\n",
        ".code_cell {\n",
        "    width: 800px;\n",
        "}\n",
        "\n",
        ".CodeMirror-sizer {\n",
        "}\n",
        "\n",
        "hr {\n",
        "    border: 1px solid #DDD;\n",
        "}\n",
        "\n",
        ".rendered_html p {\n",
        "   text-align: left;\n",
        "}\n",
        "\n",
        ".rendered_html h1 {\n",
        "    margin: 0.25em 0em 0.5em;\n",
        "    font-family: sans-serif;\n",
        "    color: #015C9C;\n",
        "    text-align: center;\n",
        "    line-height: 1.2;\n",
        "    page-break-before: always;\n",
        "}\n",
        "\n",
        ".rendered_html h2 {\n",
        "    margin: 1.1em 0em 0.5em;\n",
        "    font-family: sans-serif;\n",
        "    color: #26465D;\n",
        "    line-height: 1.2;\n",
        "}\n",
        "\n",
        ".rendered_html h3 {\n",
        "    font-family: sans-serif;\n",
        "    margin: 1.1em 0em 0.5em;\n",
        "    color: #002845;\n",
        "    line-height: 1.2;\n",
        "}\n",
        "\n",
        ".rendered_html li {\n",
        "    line-height: 1.5;\n",
        "}\n",
        "\n",
        ".CodeMirror-lines {\n",
        "    font-size: 110%;\n",
        "    line-height: 1.4em;\n",
        "    font-family: DejaVu Sans Mono, Consolas, Ubuntu, monospace;\n",
        "}\n",
        "\n",
        "h1.bigtitle {\n",
        "    margin: 4cm 1cm 4cm 1cm;\n",
        "    font-size: 300%;\n",
        "}\n",
        "\n",
        "h3.point {\n",
        "    font-size: 200%;\n",
        "    text-align: center;\n",
        "    margin: 2em 0em 2em 0em;\n",
        "    #26465D\n",
        "}\n",
        "\n",
        ".logo {\n",
        "    margin: 20px 0 20px 0;\n",
        "}\n",
        "\n",
        "a.anchor-link {\n",
        "    display: none;\n",
        "}\n",
        "\n",
        "h1.title {\n",
        "    font-size: 250%;\n",
        "}\n",
        "\n",
        ".exercize {\n",
        "    color: #738;\n",
        "}\n",
        "\n",
        "h2 .exercize {\n",
        "    font-style: italic;\n",
        "}\n",
        "\n",
        "</style>"
       ],
       "metadata": {},
       "output_type": "display_data",
       "text": [
        "<IPython.core.display.HTML at 0x10445e5d0>"
       ]
      }
     ],
     "prompt_number": 1
    }
   ],
   "metadata": {}
  }
 ]
}